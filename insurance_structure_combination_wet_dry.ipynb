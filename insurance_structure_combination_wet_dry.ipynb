{
 "cells": [
  {
   "cell_type": "code",
   "execution_count": 1,
   "metadata": {},
   "outputs": [],
   "source": [
    "import pandas as pd\n",
    "import numpy as np\n",
    "import os\n",
    "import math\n",
    "import calendar"
   ]
  },
  {
   "cell_type": "code",
   "execution_count": 2,
   "metadata": {},
   "outputs": [
    {
     "data": {
      "text/plain": [
       "['Blitar',\n",
       " 'Cirebon',\n",
       " 'Indramayu',\n",
       " 'Jember',\n",
       " 'Jombang',\n",
       " 'Karawang',\n",
       " 'Kediri',\n",
       " 'Madiun',\n",
       " 'Sukabumi',\n",
       " 'Lampung Selatan',\n",
       " 'Lampung Tengah',\n",
       " 'Lampung Timur',\n",
       " 'Majalengka',\n",
       " 'Malang',\n",
       " 'Metro',\n",
       " 'Nganjuk',\n",
       " 'Ngawi',\n",
       " 'Purwakarta']"
      ]
     },
     "execution_count": 2,
     "metadata": {},
     "output_type": "execute_result"
    }
   ],
   "source": [
    "regency = os.listdir(\"product\")\n",
    "regency"
   ]
  },
  {
   "cell_type": "code",
   "execution_count": 3,
   "metadata": {},
   "outputs": [
    {
     "data": {
      "text/plain": [
       "[6, 7, 8]"
      ]
     },
     "execution_count": 3,
     "metadata": {},
     "output_type": "execute_result"
    }
   ],
   "source": [
    "index_dry_season = list(range(6,18))\n",
    "index_dry_season[:3]"
   ]
  },
  {
   "cell_type": "code",
   "execution_count": 4,
   "metadata": {},
   "outputs": [],
   "source": [
    "gross_premi = 0.035"
   ]
  },
  {
   "cell_type": "code",
   "execution_count": 5,
   "metadata": {},
   "outputs": [],
   "source": [
    "premium_price = [5000, 10000, 20000, 50000, 100000, 200000]"
   ]
  },
  {
   "cell_type": "code",
   "execution_count": 6,
   "metadata": {},
   "outputs": [],
   "source": [
    "def planting_window(product_structure):\n",
    "    planting_window_month_index = list(map(\n",
    "    lambda x: int(x[3:]), product_structure['planting_window']\n",
    "    ))\n",
    "\n",
    "    month_list = list(calendar.month_name)[1:]\n",
    "    month_list = list(map(\n",
    "        lambda x: x[:3], month_list\n",
    "    ))\n",
    "\n",
    "    date_range = [\"1-15\", \"16-30\", \"16-31\", \"16-29\"]\n",
    "\n",
    "    longer_month = [1,3,5,7,8,10,12]\n",
    "    planting_window_month_list = []\n",
    "\n",
    "    for i in planting_window_month_index:\n",
    "        planting_window_month = month_list[math.ceil(i/2) - 1]\n",
    "        \n",
    "        if i%2 == 1:\n",
    "            range_date = date_range[0]\n",
    "        elif i%2 ==0 and (math.ceil(i/2)) == 2:\n",
    "            range_date = date_range[3]\n",
    "        elif i%2 == 0 and (math.ceil(i/2)) in longer_month:\n",
    "            range_date = date_range[2]\n",
    "        else:\n",
    "            range_date = date_range[1]\n",
    "        \n",
    "        planting_window_month = range_date + \" \" + planting_window_month\n",
    "        planting_window_month_list.append(planting_window_month)\n",
    "    \n",
    "    return(planting_window_month_list)"
   ]
  },
  {
   "cell_type": "code",
   "execution_count": 7,
   "metadata": {},
   "outputs": [],
   "source": [
    "structure_dir = 'product structure dry-wet combination'\n",
    "if not os.path.exists(structure_dir):\n",
    "    path = os.path.join(os.getcwd(), structure_dir)\n",
    "    os.mkdir(path)\n",
    "for j in range(len(premium_price)):\n",
    "    final_structure_table = pd.DataFrame()\n",
    "    for k in regency:\n",
    "        product_dir = \"product\\\\\" + k\n",
    "        product_list = os.listdir(product_dir)\n",
    "        for i in product_list:\n",
    "            product_trigger = pd.read_csv(product_dir + \"\\\\\" + i + \"\\\\rainy_days_triggers.csv\")\n",
    "            product_trigger.drop(index_dry_season, inplace=True)\n",
    "\n",
    "            product_trigger.reset_index(inplace=True)\n",
    "            product_trigger.drop(columns=['index'], inplace=True)\n",
    "\n",
    "            table_row = len(product_trigger)\n",
    "\n",
    "            product_trigger.insert(0, \"date range\", planting_window(product_trigger))\n",
    "            product_trigger.insert(0, \"pixel\", [i]*table_row)\n",
    "            product_trigger.insert(0, \"regency\", [k]*table_row)\n",
    "            product_trigger['premium rate'] = [gross_premi]*table_row\n",
    "            product_trigger['max cover'] = [0.9]*table_row\n",
    "            product_trigger['premium price'] = [premium_price[j]]*table_row\n",
    "            product_trigger['sum insured'] = [premium_price[j]/gross_premi]*table_row\n",
    "            product_trigger[\"claim per day\"] = [0.9/100*premium_price[j]/gross_premi]*table_row\n",
    "            product_trigger['minimum rainy days'] = [4]*table_row\n",
    "        \n",
    "            final_structure_table = pd.concat([final_structure_table, product_trigger], ignore_index=True)\n",
    "        \n",
    "        final_structure_table.to_csv(\n",
    "            structure_dir + \"\\\\excess_rainfall_structure_table_\" + str(premium_price[j]) + \".csv\", index=False\n",
    "        )"
   ]
  }
 ],
 "metadata": {
  "kernelspec": {
   "display_name": "Python 3.10.0 64-bit",
   "language": "python",
   "name": "python3"
  },
  "language_info": {
   "codemirror_mode": {
    "name": "ipython",
    "version": 3
   },
   "file_extension": ".py",
   "mimetype": "text/x-python",
   "name": "python",
   "nbconvert_exporter": "python",
   "pygments_lexer": "ipython3",
   "version": "3.10.0"
  },
  "orig_nbformat": 4,
  "vscode": {
   "interpreter": {
    "hash": "26de051ba29f2982a8de78e945f0abaf191376122a1563185a90213a26c5da77"
   }
  }
 },
 "nbformat": 4,
 "nbformat_minor": 2
}
